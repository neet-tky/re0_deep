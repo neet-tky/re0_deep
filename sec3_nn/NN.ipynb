{
 "cells": [
  {
   "cell_type": "code",
   "execution_count": 3,
   "metadata": {},
   "outputs": [],
   "source": [
    "import numpy as np\n",
    "import matplotlib.pyplot as plt"
   ]
  },
  {
   "cell_type": "code",
   "execution_count": 26,
   "metadata": {},
   "outputs": [],
   "source": [
    "class step_fn(object):\n",
    "    def __init__(self):\n",
    "        super(step_fn, self)\n",
    "        \n",
    "    def sigmoid(self, x):\n",
    "        return 1 / (1 + np.exp(-x))\n",
    "    \n",
    "    def step(self, x):\n",
    "        return (x > 0).astype(np.int)\n",
    "    \n",
    "    def ReLU(self, x):\n",
    "        return np.maximum(0, x)"
   ]
  },
  {
   "cell_type": "code",
   "execution_count": 27,
   "metadata": {},
   "outputs": [
    {
     "data": {
      "text/plain": [
       "[<matplotlib.lines.Line2D at 0x7ffa02d3acc0>]"
      ]
     },
     "execution_count": 27,
     "metadata": {},
     "output_type": "execute_result"
    },
    {
     "data": {
      "image/png": "[encoded data removed]",
      "text/plain": [
       "<Figure size 432x288 with 1 Axes>"
      ]
     },
     "metadata": {},
     "output_type": "display_data"
    }
   ],
   "source": [
    "x = np.array([-10, -9, -8, -7, -6, -5, -4, -3, -2, -1, 0, 1, 2, 3, 4, 5, 6, 7, 8, 9, 10])\n",
    "y = step_fn().ReLU(x)\n",
    "plt.plot(x, y)"
   ]
  },
  {
   "cell_type": "code",
   "execution_count": 37,
   "metadata": {},
   "outputs": [],
   "source": [
    "class NN(object):\n",
    "    def __init__(self, step=step_fn()):\n",
    "        self.network = {}\n",
    "        self.network['W1'] = np.array([[.1, .3, .5], [.2 , .4, .6]])\n",
    "        self.network['b1'] = np.array([.1, .2, .3])\n",
    "        self.network['W2'] = np.array([[.1, .4], [.2, .5], [.3, .6]])\n",
    "        self.network['b2'] = np.array([.1, .2])\n",
    "        self.network['W3'] = np.array([[.1, .3], [.2, .4]])\n",
    "        self.network['b3'] = np.array([.1, .2])\n",
    "        \n",
    "        self.step = step\n",
    "        \n",
    "    def forward(self, x):\n",
    "        W1, W2, W3 = self.network['W1'], self.network['W2'], self.network['W3']\n",
    "        b1, b2, b3 = self.network['b1'], self.network['b2'], self.network['b3']\n",
    "        \n",
    "        x1 = self.step.sigmoid(np.dot(x, W1) + b1)\n",
    "        x2 = self.step.sigmoid(np.dot(x1, W2) + b2)\n",
    "        x3 = self.identity_function(np.dot(x2, W3) + b3)\n",
    "        \n",
    "        return x3\n",
    "    \n",
    "    def identity_function(self, x):\n",
    "        return x\n",
    "    \n",
    "    def softmax(self, x):\n",
    "        c = np.max(x)\n",
    "        exp_a = np.exp(x - c)\n",
    "        sum_exp = np.sum(exp_a)\n",
    "        \n",
    "        return exp_a / sum_exp"
   ]
  },
  {
   "cell_type": "code",
   "execution_count": 36,
   "metadata": {},
   "outputs": [
    {
     "data": {
      "text/plain": [
       "array([0.31682708, 0.69627909])"
      ]
     },
     "execution_count": 36,
     "metadata": {},
     "output_type": "execute_result"
    }
   ],
   "source": [
    "network = NN()\n",
    "x = np.array([1., .5])\n",
    "y = network.forward(x)\n",
    "y"
   ]
  },
  {
   "cell_type": "code",
   "execution_count": 38,
   "metadata": {},
   "outputs": [
    {
     "data": {
      "text/plain": [
       "array([0.01821127, 0.24519181, 0.73659691])"
      ]
     },
     "execution_count": 38,
     "metadata": {},
     "output_type": "execute_result"
    }
   ],
   "source": [
    "a = np.array([.3, 2.9, 4.])\n",
    "y = NN().softmax(a)\n",
    "y"
   ]
  },
  {
   "cell_type": "code",
   "execution_count": null,
   "metadata": {},
   "outputs": [],
   "source": []
  }
 ],
 "metadata": {
  "kernelspec": {
   "display_name": "Python 3",
   "language": "python",
   "name": "python3"
  },
  "language_info": {
   "codemirror_mode": {
    "name": "ipython",
    "version": 3
   },
   "file_extension": ".py",
   "mimetype": "text/x-python",
   "name": "python",
   "nbconvert_exporter": "python",
   "pygments_lexer": "ipython3",
   "version": "3.5.2"
  }
 },
 "nbformat": 4,
 "nbformat_minor": 2
}
