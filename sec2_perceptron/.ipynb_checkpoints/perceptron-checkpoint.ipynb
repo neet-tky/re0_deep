{
 "cells": [
  {
   "cell_type": "markdown",
   "metadata": {
    "colab_type": "text",
    "id": "by1Yk5_XE4ft"
   },
   "source": [
    "## パーセプトロンとは?\n",
    "\n",
    "\n",
    "*   複数の信号を入力し，1つの信号を出力するもの\n",
    "*   図は2つの入力信号を受け取るモデル\n",
    "*   x1, x2は入力信号, yは出力信号，w1, w2は重みを表す．\n",
    "* 出力は信号の総和が閾値が超えたかどうかを判定\n",
    "* これを，「ニューロンが発火する」と呼ぶ\n",
    "\n",
    "![パーセプトロンの概念図](../fig/per_model.png)\n",
    "\n",
    "\\begin{eqnarray}\n",
    "y = \\left\\{ \\begin{array}{l, l}\n",
    "0 & (w_1 x_1 + w_2 x_2 > \\theta)  \\\\\n",
    "1 & (w_1 x_1 + w_2 x_2 \\leq \\theta)\n",
    "\\end{array}\n",
    "\\right.\n",
    "\\end{eqnarray}\n"
   ]
  },
  {
   "cell_type": "code",
   "execution_count": 1,
   "metadata": {
    "colab": {},
    "colab_type": "code",
    "id": "l76qjwyBZPE5"
   },
   "outputs": [],
   "source": [
    "import itertools\n",
    "import numpy as np"
   ]
  },
  {
   "cell_type": "markdown",
   "metadata": {
    "colab_type": "text",
    "id": "r7AtbebPEY3W"
   },
   "source": [
    "### [例題 ANDをパーセプトロンで実装]\n",
    "\n",
    "\n",
    "*   パーセプトロンでANDを実装してみよう\n",
    "*   2.3.2章のpp.26をそのまま書けばいいと思う\n",
    "\n",
    "入力はこんな感じ\n",
    "![パーセプトロンの概念図](../fig/and.png)"
   ]
  },
  {
   "cell_type": "code",
   "execution_count": 2,
   "metadata": {
    "colab": {},
    "colab_type": "code",
    "id": "CvqnSbziAWLA"
   },
   "outputs": [],
   "source": [
    "def AND(x1, x2):\n",
    "  x = np.array([x1, x2])\n",
    "  w = np.array([.5, .5])\n",
    "  b = - .7\n",
    "\n",
    "  z = np.sum(w * x) + b\n",
    "  \n",
    "  out = 1 if z > 0 else 0\n",
    "  \n",
    "  return out"
   ]
  },
  {
   "cell_type": "code",
   "execution_count": 3,
   "metadata": {
    "colab": {
     "base_uri": "https://localhost:8080/",
     "height": 85
    },
    "colab_type": "code",
    "id": "OnXIpfD-YpXM",
    "outputId": "7191f9e9-6ca1-4db7-85c0-f4515b57643c"
   },
   "outputs": [
    {
     "name": "stdout",
     "output_type": "stream",
     "text": [
      "0 0 0\n",
      "0 1 0\n",
      "1 0 0\n",
      "1 1 1\n"
     ]
    }
   ],
   "source": [
    "for x1, x2 in itertools.product([0, 1], [0, 1]):\n",
    "  print(x1, x2, AND(x1, x2))"
   ]
  },
  {
   "cell_type": "markdown",
   "metadata": {
    "colab_type": "text",
    "id": "KVFzuT3KFwTO"
   },
   "source": [
    "### [演習1 ORをパーセプトロンで実装]"
   ]
  },
  {
   "cell_type": "code",
   "execution_count": 10,
   "metadata": {
    "colab": {},
    "colab_type": "code",
    "id": "JXy28abpAyTq"
   },
   "outputs": [],
   "source": [
    "def OR(x1, x2):\n",
    "  x = np.array([x1, x2])\n",
    "  w = np.array(??, ??)\n",
    "  b = -.4\n",
    "\n",
    "  z = np.sum(w * x) + b\n",
    "  \n",
    "  out = 1 if z ?? 0 else 0\n",
    "  \n",
    "  return out"
   ]
  },
  {
   "cell_type": "code",
   "execution_count": 11,
   "metadata": {
    "colab": {
     "base_uri": "https://localhost:8080/",
     "height": 85
    },
    "colab_type": "code",
    "id": "fqUHnNtPZ9bZ",
    "outputId": "27ba9c3b-55a1-40f9-d3a7-980bcf9761f7"
   },
   "outputs": [
    {
     "name": "stdout",
     "output_type": "stream",
     "text": [
      "0 0 0\n",
      "0 1 1\n",
      "1 0 1\n",
      "1 1 1\n"
     ]
    }
   ],
   "source": [
    "for x1, x2 in itertools.product([0, 1], [0, 1]):\n",
    "  print(x1, x2, OR(x1, x2))"
   ]
  },
  {
   "cell_type": "markdown",
   "metadata": {
    "colab_type": "text",
    "id": "qtYjhK7VF3wQ"
   },
   "source": [
    "### [演習2 NANDをパーセプトロンで実装]"
   ]
  },
  {
   "cell_type": "code",
   "execution_count": 6,
   "metadata": {
    "colab": {},
    "colab_type": "code",
    "id": "lE-EiMkBA48a"
   },
   "outputs": [],
   "source": [
    "def NAND(x1, x2):\n",
    "  x = np.array([x1, x2])\n",
    "  w = np.array([??, ??])\n",
    "  b = - .7\n",
    "\n",
    "  z = np.sum(w * x) + b\n",
    "  \n",
    "  out = 1 if z ?? 0 else 0\n",
    "  \n",
    "  return out"
   ]
  },
  {
   "cell_type": "code",
   "execution_count": 7,
   "metadata": {
    "colab": {
     "base_uri": "https://localhost:8080/",
     "height": 85
    },
    "colab_type": "code",
    "id": "lMlBWOxaaI9i",
    "outputId": "28cce1ef-52e8-4484-f5db-520946cd3102"
   },
   "outputs": [
    {
     "name": "stdout",
     "output_type": "stream",
     "text": [
      "0 0 1\n",
      "0 1 1\n",
      "1 0 1\n",
      "1 1 0\n"
     ]
    }
   ],
   "source": [
    "for x1, x2 in itertools.product([0, 1], [0, 1]):\n",
    "  print(x1, x2, NAND(x1, x2))"
   ]
  },
  {
   "cell_type": "markdown",
   "metadata": {
    "colab_type": "text",
    "id": "UFzszDTKF_eO"
   },
   "source": [
    "### [演習3 XORをパーセプトロンで実装]\n",
    "\n",
    "\n",
    "\n",
    "*   ヒント1        NANDを組み合わせる\n",
    "*   ヒント2        NANDからNOTを実装\n",
    "\n"
   ]
  },
  {
   "cell_type": "code",
   "execution_count": 8,
   "metadata": {
    "colab": {},
    "colab_type": "code",
    "id": "aNI2Hj4vBI0N"
   },
   "outputs": [],
   "source": [
    "def XOR(x1, x2):\n",
    "    pass\n",
    "    \n",
    "    return out"
   ]
  },
  {
   "cell_type": "code",
   "execution_count": 9,
   "metadata": {
    "colab": {
     "base_uri": "https://localhost:8080/",
     "height": 85
    },
    "colab_type": "code",
    "id": "g77sbwziaMQz",
    "outputId": "c125af26-7436-412d-ddb6-40f8a0e09585"
   },
   "outputs": [
    {
     "name": "stdout",
     "output_type": "stream",
     "text": [
      "0 0 0\n",
      "0 1 1\n",
      "1 0 1\n",
      "1 1 0\n"
     ]
    }
   ],
   "source": [
    "for x1, x2 in itertools.product([0, 1], [0, 1]):\n",
    "  print(x1, x2, XOR(x1, x2))"
   ]
  },
  {
   "cell_type": "code",
   "execution_count": 0,
   "metadata": {
    "colab": {},
    "colab_type": "code",
    "id": "zLH4tpGbaO-M"
   },
   "outputs": [],
   "source": []
  }
 ],
 "metadata": {
  "colab": {
   "name": "section2_sample.ipynb",
   "provenance": [],
   "version": "0.3.2"
  },
  "kernelspec": {
   "display_name": "Python 3",
   "language": "python",
   "name": "python3"
  },
  "language_info": {
   "codemirror_mode": {
    "name": "ipython",
    "version": 3
   },
   "file_extension": ".py",
   "mimetype": "text/x-python",
   "name": "python",
   "nbconvert_exporter": "python",
   "pygments_lexer": "ipython3",
   "version": "3.6.2"
  }
 },
 "nbformat": 4,
 "nbformat_minor": 1
}
